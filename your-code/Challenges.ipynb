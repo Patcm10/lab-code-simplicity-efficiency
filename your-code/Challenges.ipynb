{
 "cells": [
  {
   "cell_type": "code",
   "execution_count": null,
   "metadata": {},
   "outputs": [],
   "source": [
    "# CHALLENGE 1\n",
    "\n",
    "import operator\n",
    "\n",
    "print('Welcome to this calculator!','It can add and subtract whole numbers from zero to five ')\n",
    "a = input('Please choose your first number zero to five:  ')\n",
    "c = input('Please choose your second number zero to five: ')\n",
    "d = {'zero':0,'one':1,'two':2,'three':3,'four':4,'five':5}\n",
    "e = ['zero','one','two','three','four','five']\n",
    "operators = {\n",
    "    '+': operator.add,\n",
    "    '-': operator.sub,\n",
    "    '*': operator.mul,\n",
    "    '/': operator.floordiv\n",
    "}\n",
    "\n",
    "operation = input(\"Enter operation\\n[{}]\".format(','.join(operators.keys())))\n",
    "\n",
    "if a not in d.keys() or c not in d.keys():\n",
    "    print('error')\n",
    "if operation in operators:\n",
    "    print(e[operators[operation](d[a],d[c])])\n",
    "else:\n",
    "    print('Invalid operator')\n",
    "print(\"Thanks for using this calculator, goodbye :)\")\n",
    "\n"
   ]
  },
  {
   "cell_type": "code",
   "execution_count": null,
   "metadata": {},
   "outputs": [],
   "source": [
    "# Challenge 2\n",
    "import random\n",
    "import string\n",
    "\n",
    "def string_generator(n):\n",
    "    letras = string.ascii_lowercase + string.digits\n",
    "    listo = ''.join(random.choice(letras)for i in range(int(n)))\n",
    "    return listo\n",
    "\n",
    "def string_batch():\n",
    "    a = int(input('Enter minimum string length: '))\n",
    "    b = int(input('Enter maximum string length: '))\n",
    "    n = int(input('How many random strings to generate? '))\n",
    "    if a > b: ('Incorrect min and max string lengths. Try again.')\n",
    "    return[string_generator(random.choice(range(a,b))) for i in range(n)]\n",
    "\n",
    "\n",
    "\n",
    "string_batch()"
   ]
  },
  {
   "cell_type": "code",
   "execution_count": null,
   "metadata": {},
   "outputs": [],
   "source": [
    "# CHALLENGE 3\n",
    "\n",
    "def my_function(X):\n",
    "    \n",
    "    solutions = [[x,y,z] for x in range(X) for y in range(x) for z in range(y) if (x*x==y*y+z*z)]\n",
    "    m = 0\n",
    "    for solution in solutions:\n",
    "        if m < max(solution):\n",
    "            m = max(solution)\n",
    "    return m\n",
    "\n",
    "X = input(\"What is the maximal length of the triangle side? Enter a number: \")\n",
    "\n",
    "print(\"The longest side possible is \" + str(my_function(int(X))))\n",
    "\n",
    "\n",
    "my_fuction()"
   ]
  },
  {
   "cell_type": "code",
   "execution_count": null,
   "metadata": {},
   "outputs": [],
   "source": []
  }
 ],
 "metadata": {
  "kernelspec": {
   "display_name": "Python 3",
   "language": "python",
   "name": "python3"
  },
  "language_info": {
   "codemirror_mode": {
    "name": "ipython",
    "version": 3
   },
   "file_extension": ".py",
   "mimetype": "text/x-python",
   "name": "python",
   "nbconvert_exporter": "python",
   "pygments_lexer": "ipython3",
   "version": "3.7.3"
  }
 },
 "nbformat": 4,
 "nbformat_minor": 2
}
